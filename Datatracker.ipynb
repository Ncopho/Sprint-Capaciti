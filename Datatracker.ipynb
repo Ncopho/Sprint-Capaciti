{
 "cells": [
  {
   "cell_type": "code",
   "execution_count": 4,
   "metadata": {},
   "outputs": [
    {
     "name": "stdout",
     "output_type": "stream",
     "text": [
      "Requirement already satisfied: pymongo in c:\\users\\student-cpt-037\\appdata\\local\\continuum\\anaconda3\\lib\\site-packages (3.10.1)\n"
     ]
    }
   ],
   "source": [
    "!pip install pymongo"
   ]
  },
  {
   "cell_type": "code",
   "execution_count": 2,
   "metadata": {},
   "outputs": [
    {
     "name": "stdout",
     "output_type": "stream",
     "text": [
      "['admin', 'config', 'local']\n",
      "Database(MongoClient(host=['localhost:27017'], document_class=dict, tz_aware=False, connect=True), 'DataTraker')\n"
     ]
    }
   ],
   "source": [
    "import pymongo\n",
    "\n",
    "myclient = pymongo.MongoClient(\"mongodb://localhost:27017/\")\n",
    "\n",
    "print(myclient.list_database_names())\n",
    "\n",
    "mydb= myclient[\"DataTraker\"]\n",
    "\n",
    "print(mydb)"
   ]
  },
  {
   "cell_type": "markdown",
   "metadata": {},
   "source": [
    "# Stock Sheet"
   ]
  },
  {
   "cell_type": "code",
   "execution_count": 10,
   "metadata": {},
   "outputs": [
    {
     "name": "stdout",
     "output_type": "stream",
     "text": [
      "<pymongo.results.InsertManyResult object at 0x000002440CE14648>\n"
     ]
    }
   ],
   "source": [
    "import pymongo\n",
    "\n",
    "myclient = pymongo.MongoClient(\"mongodb://localhost:27017/\")\n",
    "\n",
    "mydb = myclient[\"DataTracker\"]\n",
    "\n",
    "mycol = mydb[\"STOCK EXCHANGE\"]\n",
    "\n",
    "mydict = [\n",
    "        {\"Product\":\"Pringles\",\"Price\":10.00,\"Quantity\":16,\"Barcode\":123},\n",
    "        {\"Product\":\"Cheese Naks\",\"Price\":2.00,\"Quantity\":14,\"Barcode\":456},\n",
    "        {\"Product\":\"Lays\",\"Price\":12.00,\"Quantity\":22,\"Barcode\":789},\n",
    "        {\"Product\":\"Doritos\",\"Price\":4.00,\"Quantity\":6,\"Barcode\":101},\n",
    "        {\"Product\":\"PopCorn\",\"Price\":15.00,\"Quantity\":18,\"Barcode\":112},\n",
    "        {\"Product\":\"Miranda\",\"Price\":10.00,\"Quantity\":4,\"Barcode\":134},\n",
    "        {\"Product\":\"Coke\",\"Price\":15.00,\"Quantity\":22,\"Barcode\":156},\n",
    "        {\"Product\":\"Fanta\",\"Price\":15.00,\"Quantity\":36,\"Barcode\":178},\n",
    "        {\"Product\":\"Sprite\",\"Price\":16.00,\"Quantity\":14,\"Barcode\":189},\n",
    "        {\"Product\":\"Pepsi\",\"Price\":12.00,\"Quantity\":15,\"Barcode\":192},\n",
    "        {\"Product\":\"Take Two\",\"Price\":16.00,\"Quantity\":80,\"Barcode\":211},\n",
    "        {\"Product\":\"LunchBar\",\"Price\":14.00,\"Quantity\":81,\"Barcode\":223},\n",
    "        {\"Product\":\"Lindt\",\"Price\":34.00,\"Quantity\":36,\"Barcode\":244},\n",
    "        {\"Product\":\"Cadbury\",\"Price\":4.00,\"Quantity\":25,\"Barcode\":256},\n",
    "        {\"Product\":\"Tex\",\"Price\":12.00,\"Quantity\":55,\"Barcode\":278},\n",
    "        {\"Product\":\"Chicken\",\"Price\":24.00,\"Quantity\":25,\"Barcode\":259},\n",
    "        {\"Product\":\"Steak an Kidney\",\"Price\":25.00,\"Quantity\":13,\"Barcode\":310},\n",
    "        {\"Product\":\"Pepper Steak\",\"Price\":26.00,\"Quantity\":15,\"Barcode\":320},\n",
    "        {\"Product\":\"Gatsby\",\"Price\":32.00,\"Quantity\":36,\"Barcode\":333},\n",
    "        {\"Product\":\"Beef\",\"Price\":22.00,\"Quantity\":36,\"Barcode\":354},\n",
    "        {\"Product\":\"Strawberry\",\"Price\":54.00,\"Quantity\":65,\"Barcode\":369},\n",
    "        {\"Product\":\"Chocolate\",\"Price\":62.00,\"Quantity\":55,\"Barcode\":378},\n",
    "        {\"Product\":\"Raisin\",\"Price\":32.00,\"Quantity\":45,\"Barcode\":412},\n",
    "        {\"Product\":\"Vanilla\",\"Price\":15.00,\"Quantity\":35,\"Barcode\":434},\n",
    "        {\"Product\":\"Peach\",\"Price\":17.00,\"Quantity\":58,\"Barcode\":457},\n",
    "        {\"Product\":\"Banana\",\"Price\":4.00,\"Quantity\":400,\"Barcode\":587},\n",
    "        {\"Product\":\"Apple\",\"Price\":6.00,\"Quantity\":644,\"Barcode\":596},\n",
    "        {\"Product\":\"Orange\",\"Price\":12.00,\"Quantity\":858,\"Barcode\":651},\n",
    "        {\"Product\":\"Mango\",\"Price\":7.00,\"Quantity\":545,\"Barcode\":659},\n",
    "        {\"Product\":\"Peaches\",\"Price\":98.00,\"Quantity\":320,\"Barcode\":702}\n",
    "]\n",
    "x = mycol.insert_many(mydict)\n",
    "print(x)"
   ]
  },
  {
   "cell_type": "markdown",
   "metadata": {},
   "source": [
    "# Top Three Select"
   ]
  },
  {
   "cell_type": "code",
   "execution_count": 11,
   "metadata": {},
   "outputs": [
    {
     "name": "stdout",
     "output_type": "stream",
     "text": [
      "<pymongo.results.InsertManyResult object at 0x000002440CE25A88>\n"
     ]
    }
   ],
   "source": [
    "import pymongo\n",
    "\n",
    "myclient = pymongo.MongoClient(\"mongodb://localhost:27017/\")\n",
    "\n",
    "mydb = myclient[\"DataTracker\"]\n",
    "\n",
    "mycol = mydb[\"Top Three\"]\n",
    "\n",
    "mydict = [\n",
    "       \n",
    "        {\"Product\":\"Pepsi\",\"Price\":12.00,\"Quantity\":15,\"Barcode\":192},\n",
    "        {\"Product\":\"Take Two\",\"Price\":16.00,\"Quantity\":80,\"Barcode\":211},\n",
    "        {\"Product\":\"Peaches\",\"Price\":98.00,\"Quantity\":320,\"Barcode\":702}\n",
    "]\n",
    "x = mycol.insert_many(mydict)\n",
    "print(x)"
   ]
  },
  {
   "cell_type": "markdown",
   "metadata": {},
   "source": [
    "# Sort Decending Order"
   ]
  },
  {
   "cell_type": "code",
   "execution_count": 15,
   "metadata": {},
   "outputs": [
    {
     "name": "stdout",
     "output_type": "stream",
     "text": [
      "{'_id': ObjectId('5e57b91b1b07b10dd5d4bf3f'), 'Product': 'Peaches', 'Price': 98.0, 'Quantity': 320, 'Barcode': 702}\n",
      "{'_id': ObjectId('5e57bcc11b07b10dd5d4bf43'), 'Product': 'Peaches', 'Price': 98.0, 'Quantity': 320, 'Barcode': 702}\n",
      "{'_id': ObjectId('5e57be861b07b10dd5d4bf47'), 'Product': 'Peaches', 'Price': 98.0, 'Quantity': 320, 'Barcode': 702}\n",
      "{'_id': ObjectId('5e57b91b1b07b10dd5d4bf3d'), 'Product': 'Pepsi', 'Price': 12.0, 'Quantity': 15, 'Barcode': 192}\n",
      "{'_id': ObjectId('5e57bcc11b07b10dd5d4bf41'), 'Product': 'Pepsi', 'Price': 12.0, 'Quantity': 15, 'Barcode': 192}\n",
      "{'_id': ObjectId('5e57be861b07b10dd5d4bf45'), 'Product': 'Pepsi', 'Price': 12.0, 'Quantity': 15, 'Barcode': 192}\n",
      "{'_id': ObjectId('5e57b91b1b07b10dd5d4bf3e'), 'Product': 'Take Two', 'Price': 16.0, 'Quantity': 80, 'Barcode': 211}\n",
      "{'_id': ObjectId('5e57bcc11b07b10dd5d4bf42'), 'Product': 'Take Two', 'Price': 16.0, 'Quantity': 80, 'Barcode': 211}\n",
      "{'_id': ObjectId('5e57be861b07b10dd5d4bf46'), 'Product': 'Take Two', 'Price': 16.0, 'Quantity': 80, 'Barcode': 211}\n"
     ]
    }
   ],
   "source": [
    "import pymongo\n",
    "\n",
    "myclient = pymongo.MongoClient(\"mongodb://localhost:27017/\")\n",
    "\n",
    "mydb = myclient[\"DataTracker\"]\n",
    "\n",
    "mycol = mydb[\"Top Three\"]\n",
    "\n",
    "mydoc = mycol.find().sort(\"Product\")\n",
    "\n",
    "mydict = [\n",
    "       \n",
    "        {\"Product\":\"Pepsi\",\"Price\":12.00,\"Quantity\":15,\"Barcode\":192},\n",
    "        {\"Product\":\"Take Two\",\"Price\":16.00,\"Quantity\":80,\"Barcode\":211},\n",
    "        {\"Product\":\"Peaches\",\"Price\":98.00,\"Quantity\":320,\"Barcode\":702}\n",
    "]\n",
    "#x = mycol.insert_many(mydict)\n",
    "for x in mydoc:\n",
    "    print(x)"
   ]
  },
  {
   "cell_type": "markdown",
   "metadata": {},
   "source": [
    "# Delete 1 Input."
   ]
  },
  {
   "cell_type": "code",
   "execution_count": 13,
   "metadata": {},
   "outputs": [
    {
     "name": "stdout",
     "output_type": "stream",
     "text": [
      "<pymongo.results.InsertManyResult object at 0x000002440CE25708>\n"
     ]
    }
   ],
   "source": [
    "import pymongo\n",
    "\n",
    "myclient = pymongo.MongoClient(\"mongodb://localhost:27017/\")\n",
    "\n",
    "mydb = myclient[\"DataTracker\"]\n",
    "\n",
    "mycol = mydb[\"Top Three\"]\n",
    "\n",
    "mydoc = mycol.find().sort(\"Product\")\n",
    "\n",
    "mydict = [\n",
    "       \n",
    "        {\"Product\":\"Pepsi\",\"Price\":12.00,\"Quantity\":15,\"Barcode\":192},\n",
    "        {\"Product\":\"Take Two\",\"Price\":16.00,\"Quantity\":80,\"Barcode\":211},\n",
    "        {\"Product\":\"Peaches\",\"Price\":98.00,\"Quantity\":320,\"Barcode\":702}\n",
    "]\n",
    "x = mycol.insert_many(mydict)\n",
    "print(x)"
   ]
  },
  {
   "cell_type": "markdown",
   "metadata": {},
   "source": [
    "# Find 1"
   ]
  },
  {
   "cell_type": "code",
   "execution_count": 16,
   "metadata": {},
   "outputs": [
    {
     "name": "stdout",
     "output_type": "stream",
     "text": [
      "{'_id': ObjectId('5e57b91b1b07b10dd5d4bf3d'), 'Product': 'Pepsi', 'Price': 12.0, 'Quantity': 15, 'Barcode': 192}\n"
     ]
    }
   ],
   "source": [
    "import pymongo\n",
    "\n",
    "myclient = pymongo.MongoClient(\"mongodb://localhost:27017/\")\n",
    "\n",
    "mydb = myclient[\"DataTracker\"]\n",
    "\n",
    "mycol = mydb[\"Top Three\"]\n",
    "\n",
    "#mydoc = mycol.find().sort(\"Product\")\n",
    "\n",
    "x = mycol.find_one()\n",
    "\n",
    "print(x)"
   ]
  },
  {
   "cell_type": "markdown",
   "metadata": {},
   "source": [
    "# Delete 2 from collection"
   ]
  },
  {
   "cell_type": "code",
   "execution_count": 20,
   "metadata": {},
   "outputs": [
    {
     "name": "stdout",
     "output_type": "stream",
     "text": [
      "{'_id': ObjectId('5e57b91b1b07b10dd5d4bf3d'), 'Product': 'Pepsi', 'Price': 12.0, 'Quantity': 15, 'Barcode': 192}\n"
     ]
    }
   ],
   "source": [
    "import pymongo\n",
    "\n",
    "myclient = pymongo.MongoClient(\"mongodb://localhost:27017/\")\n",
    "\n",
    "mydb = myclient[\"DataTracker\"]\n",
    "\n",
    "mycol =mydb[\"Top Three\"]\n",
    "myquery = {\"Product\":\"Pepsi\",\"Price\":12.00,\"Quantity\":15,\"Barcode\":192}\n",
    "\n",
    "mycol.delete_one(myquery)\n",
    "\n",
    "#print the customers collection after the deletion:\n",
    "#for x in mycol.find():\n",
    "print(x)"
   ]
  },
  {
   "cell_type": "code",
   "execution_count": 21,
   "metadata": {},
   "outputs": [
    {
     "name": "stdout",
     "output_type": "stream",
     "text": [
      "{'_id': ObjectId('5e57b91b1b07b10dd5d4bf3d'), 'Product': 'Pepsi', 'Price': 12.0, 'Quantity': 15, 'Barcode': 192}\n"
     ]
    }
   ],
   "source": [
    "import pymongo\n",
    "\n",
    "myclient = pymongo.MongoClient(\"mongodb://localhost:27017/\")\n",
    "\n",
    "mydb = myclient[\"DataTracker\"]\n",
    "\n",
    "mycol =mydb[\"Top Three\"]\n",
    "myquery = {\"Product\":\"Take Two\",\"Price\":16.00,\"Quantity\":80,\"Barcode\":211}\n",
    "\n",
    "mycol.delete_one(myquery)\n",
    "\n",
    "#print the customers collection after the deletion:\n",
    "#for x in mycol.find():\n",
    "print(x)"
   ]
  },
  {
   "cell_type": "markdown",
   "metadata": {},
   "source": [
    "# Sort"
   ]
  },
  {
   "cell_type": "code",
   "execution_count": 22,
   "metadata": {},
   "outputs": [
    {
     "name": "stdout",
     "output_type": "stream",
     "text": [
      "{'_id': ObjectId('5e57b91b1b07b10dd5d4bf3f'), 'Product': 'Peaches', 'Price': 98.0, 'Quantity': 320, 'Barcode': 702}\n",
      "{'_id': ObjectId('5e57bcc11b07b10dd5d4bf43'), 'Product': 'Peaches', 'Price': 98.0, 'Quantity': 320, 'Barcode': 702}\n",
      "{'_id': ObjectId('5e57be861b07b10dd5d4bf47'), 'Product': 'Peaches', 'Price': 98.0, 'Quantity': 320, 'Barcode': 702}\n",
      "{'_id': ObjectId('5e57bcc11b07b10dd5d4bf41'), 'Product': 'Pepsi', 'Price': 12.0, 'Quantity': 15, 'Barcode': 192}\n",
      "{'_id': ObjectId('5e57be861b07b10dd5d4bf45'), 'Product': 'Pepsi', 'Price': 12.0, 'Quantity': 15, 'Barcode': 192}\n",
      "{'_id': ObjectId('5e57bcc11b07b10dd5d4bf42'), 'Product': 'Take Two', 'Price': 16.0, 'Quantity': 80, 'Barcode': 211}\n",
      "{'_id': ObjectId('5e57be861b07b10dd5d4bf46'), 'Product': 'Take Two', 'Price': 16.0, 'Quantity': 80, 'Barcode': 211}\n"
     ]
    }
   ],
   "source": [
    "import pymongo\n",
    "\n",
    "myclient = pymongo.MongoClient(\"mongodb://localhost:27017/\")\n",
    "\n",
    "mydb = myclient[\"DataTracker\"]\n",
    "\n",
    "mycol = mydb[\"Top Three\"]\n",
    "\n",
    "mydoc = mycol.find().sort(\"Product\")\n",
    "\n",
    "for x in mydoc:\n",
    "    print(x)"
   ]
  },
  {
   "cell_type": "code",
   "execution_count": null,
   "metadata": {},
   "outputs": [],
   "source": []
  }
 ],
 "metadata": {
  "kernelspec": {
   "display_name": "Python 3",
   "language": "python",
   "name": "python3"
  },
  "language_info": {
   "codemirror_mode": {
    "name": "ipython",
    "version": 3
   },
   "file_extension": ".py",
   "mimetype": "text/x-python",
   "name": "python",
   "nbconvert_exporter": "python",
   "pygments_lexer": "ipython3",
   "version": "3.7.4"
  }
 },
 "nbformat": 4,
 "nbformat_minor": 2
}
