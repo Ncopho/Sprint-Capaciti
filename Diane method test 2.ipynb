{
 "cells": [
  {
   "cell_type": "code",
   "execution_count": 1,
   "metadata": {},
   "outputs": [],
   "source": [
    "import mysql.connector\n",
    "\n",
    "mydb = mysql.connector.connect(\n",
    "    \n",
    "    host=\"localhost\",\n",
    "    \n",
    "    user=\"root\",\n",
    "    \n",
    "    password=\"2361066nd\",\n",
    "    \n",
    "    database=\"file3_db\"\n",
    "    \n",
    ")\n",
    "mycursor = mydb.cursor()\n",
    "\n",
    "#mycursor.execute(\"CREATE TABLE Pies (Type VARCHAR(255), `Sell By Date` Date, Grams Varchar(50), `Cost Price`Varchar(50))\")\n",
    "#sql = \"insert into Pies(Type,`Sell by Date`,Grams,`cost price` ) values (%s,%s,%s,%s)\"\n",
    "#val = (\" Chicken\",4082021,125,11.00)\n",
    "#val = (\" Steak an Kidney\",8102021,125,11.00)\n",
    "#val = (\" Pepper Steak\",9082021,125,11.00)\n",
    "#val = (\" Gatsby\",11082021,125,11.00)\n",
    "#val = (\" Beef\",21082021,125,11.00)\n",
    "#mycursor.execute(sql,val)\n",
    "mydb.commit()\n",
    "#print(\"data is uploaded\")"
   ]
  },
  {
   "cell_type": "code",
   "execution_count": 18,
   "metadata": {},
   "outputs": [],
   "source": [
    "sql = \"insert into Pies(Type,`Sell by Date`,Grams,`cost price` ) values (%s,%s,%s,%s)\"\n",
    "#val = (\" Chicken\",\"2020-11-11\",\"125\",\"11.00\")\n",
    "val = (\" Steak an Kidney\",\"2020-10-13\",\"125\",\"11.00\")\n",
    "#val = (\" Pepper Steak\",2020-09-12\",\"125\",\"11.00\")\n",
    "#val = (\" Gatsby\",\"2020-12-10\",\"125\",\"11.00\")\n",
    "#val = (\" Beef\",\"2021-02-04\",\"125\",\"11.00\")\n",
    "mycursor.execute(sql,val)"
   ]
  },
  {
   "cell_type": "code",
   "execution_count": 3,
   "metadata": {},
   "outputs": [
    {
     "name": "stdout",
     "output_type": "stream",
     "text": [
      "1 record inserted.\n"
     ]
    }
   ],
   "source": [
    "mycursor = mydb.cursor()\n",
    "\n",
    "sql = \"insert into Pies(Type,`Sell by Date`,Grams,`cost price` ) values (%s,%s,%s,%s)\"\n",
    "val = (\" Chicken\",\"2020-11-11\",\"125\",\"11.00\")\n",
    "mycursor.execute(sql, val)\n",
    "\n",
    "mydb.commit()\n",
    "\n",
    "print(mycursor.rowcount, \"record inserted.\")"
   ]
  },
  {
   "cell_type": "code",
   "execution_count": 20,
   "metadata": {},
   "outputs": [
    {
     "name": "stdout",
     "output_type": "stream",
     "text": [
      "1 record inserted.\n"
     ]
    }
   ],
   "source": [
    "mycursor = mydb.cursor()\n",
    "\n",
    "sql = \"insert into Pies(Type,`Sell by Date`,Grams,`cost price` ) values (%s,%s,%s,%s)\"\n",
    "val = (\" Steak an Kidney\",\"2020-10-13\",\"125\",\"11.00\")\n",
    "mycursor.execute(sql, val)\n",
    "\n",
    "mydb.commit()\n",
    "\n",
    "print(mycursor.rowcount, \"record inserted.\")"
   ]
  },
  {
   "cell_type": "code",
   "execution_count": 22,
   "metadata": {},
   "outputs": [
    {
     "name": "stdout",
     "output_type": "stream",
     "text": [
      "1 record inserted.\n"
     ]
    }
   ],
   "source": [
    "mycursor = mydb.cursor()\n",
    "\n",
    "sql = \"insert into Pies(Type,`Sell by Date`,Grams,`cost price` ) values (%s,%s,%s,%s)\"\n",
    "val = (\" Pepper Steak\",\"2020-9-12\",\"125\",\"11.00\")\n",
    "mycursor.execute(sql, val)\n",
    "\n",
    "mydb.commit()\n",
    "\n",
    "print(mycursor.rowcount, \"record inserted.\")"
   ]
  },
  {
   "cell_type": "code",
   "execution_count": 23,
   "metadata": {},
   "outputs": [
    {
     "name": "stdout",
     "output_type": "stream",
     "text": [
      "1 record inserted.\n"
     ]
    }
   ],
   "source": [
    "mycursor = mydb.cursor()\n",
    "\n",
    "sql = \"insert into Pies(Type,`Sell by Date`,Grams,`cost price` ) values (%s,%s,%s,%s)\"\n",
    "val = (\" Gatsby\",\"2020-12-10\",\"125\",\"11.00\")\n",
    "mycursor.execute(sql, val)\n",
    "\n",
    "mydb.commit()\n",
    "\n",
    "print(mycursor.rowcount, \"record inserted.\")"
   ]
  },
  {
   "cell_type": "code",
   "execution_count": 24,
   "metadata": {},
   "outputs": [
    {
     "name": "stdout",
     "output_type": "stream",
     "text": [
      "1 record inserted.\n"
     ]
    }
   ],
   "source": [
    "mycursor = mydb.cursor()\n",
    "\n",
    "sql = \"insert into Pies(Type,`Sell by Date`,Grams,`cost price` ) values (%s,%s,%s,%s)\"\n",
    "val = (\" Beef\",\"2021-02-04\",\"125\",\"11.00\")\n",
    "mycursor.execute(sql, val)\n",
    "\n",
    "mydb.commit()\n",
    "\n",
    "print(mycursor.rowcount, \"record inserted.\")"
   ]
  },
  {
   "cell_type": "code",
   "execution_count": 2,
   "metadata": {},
   "outputs": [
    {
     "name": "stdout",
     "output_type": "stream",
     "text": [
      "0 record(s) deleted\n"
     ]
    }
   ],
   "source": [
    "mycursor = mydb.cursor()\n",
    "\n",
    "sql = \"DELETE FROM pies WHERE Type = 'Chicken'\"\n",
    "\n",
    "mycursor.execute(sql)\n",
    "\n",
    "mydb.commit()\n",
    "\n",
    "print(mycursor.rowcount, \"record(s) deleted\")"
   ]
  },
  {
   "cell_type": "code",
   "execution_count": null,
   "metadata": {},
   "outputs": [],
   "source": []
  }
 ],
 "metadata": {
  "kernelspec": {
   "display_name": "Python 3",
   "language": "python",
   "name": "python3"
  },
  "language_info": {
   "codemirror_mode": {
    "name": "ipython",
    "version": 3
   },
   "file_extension": ".py",
   "mimetype": "text/x-python",
   "name": "python",
   "nbconvert_exporter": "python",
   "pygments_lexer": "ipython3",
   "version": "3.7.4"
  }
 },
 "nbformat": 4,
 "nbformat_minor": 2
}
